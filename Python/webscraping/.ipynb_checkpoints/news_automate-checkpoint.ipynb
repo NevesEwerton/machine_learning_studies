{
 "cells": [
  {
   "cell_type": "code",
   "execution_count": 1,
   "id": "fa26c32d",
   "metadata": {},
   "outputs": [],
   "source": [
    "import requests\n",
    "from bs4 import BeautifulSoup"
   ]
  },
  {
   "cell_type": "code",
   "execution_count": 2,
   "id": "f1e8c59e",
   "metadata": {},
   "outputs": [],
   "source": [
    "url = 'https://g1.globo.com//'\n",
    "response = requests.get(url)"
   ]
  },
  {
   "cell_type": "code",
   "execution_count": 4,
   "id": "0bbbddcf",
   "metadata": {},
   "outputs": [
    {
     "name": "stdout",
     "output_type": "stream",
     "text": [
      "Manchete da notícia:  Massa fala em 'nova etapa' ao votar; Milei critica 'campanha do medo'\n",
      "\n",
      "Subtítulo da notícia:  Brics, Mercosul e mais: a importância da eleição para o Brasil\n"
     ]
    }
   ],
   "source": [
    "content = response.content\n",
    "soup = BeautifulSoup(content, 'html.parser')\n",
    "# encontra a primeira div que contém a classe feed-post-body\n",
    "post = soup.find('div', attrs={'class':'feed-post-body'})\n",
    "# Obtendo o título da notícia\n",
    "titulo = post.find('p', attrs={'elementtiming':'text-ssr'}).text\n",
    "print(\"Manchete da notícia: \",titulo)\n",
    "sub_titulo = post.find('a', attrs={'class':'gui-color-primary gui-color-hover feed-post-body-title bstn-relatedtext'}).text\n",
    "print(\"\\nSubtítulo da notícia: \", sub_titulo)"
   ]
  }
 ],
 "metadata": {
  "kernelspec": {
   "display_name": "Python 3 (ipykernel)",
   "language": "python",
   "name": "python3"
  },
  "language_info": {
   "codemirror_mode": {
    "name": "ipython",
    "version": 3
   },
   "file_extension": ".py",
   "mimetype": "text/x-python",
   "name": "python",
   "nbconvert_exporter": "python",
   "pygments_lexer": "ipython3",
   "version": "3.9.7"
  }
 },
 "nbformat": 4,
 "nbformat_minor": 5
}
