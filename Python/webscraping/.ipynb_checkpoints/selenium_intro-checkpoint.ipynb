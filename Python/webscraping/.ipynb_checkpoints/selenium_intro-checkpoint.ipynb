{
 "cells": [
  {
   "cell_type": "code",
   "execution_count": 10,
   "id": "36c44560",
   "metadata": {},
   "outputs": [],
   "source": [
    "import requests\n",
    "from bs4 import BeautifulSoup\n",
    "import pandas as pd\n",
    "from selenium import webdriver\n",
    "from time import sleep"
   ]
  },
  {
   "cell_type": "code",
   "execution_count": 11,
   "id": "e4ab1e9a",
   "metadata": {},
   "outputs": [],
   "source": [
    "navegador = webdriver.Chrome()\n",
    "navegador.get('https://www.globo.com')\n",
    "sleep(3)\n",
    "elemento = navegador.find_element_by_tag_name('input')\n",
    "elemento.send_keys('flamengo')"
   ]
  },
  {
   "cell_type": "code",
   "execution_count": 13,
   "id": "dacea8b7",
   "metadata": {},
   "outputs": [],
   "source": [
    "navegador.close()"
   ]
  },
  {
   "cell_type": "code",
   "execution_count": 7,
   "id": "a066617d",
   "metadata": {},
   "outputs": [],
   "source": []
  },
  {
   "cell_type": "code",
   "execution_count": 8,
   "id": "62b461dc",
   "metadata": {},
   "outputs": [
    {
     "name": "stdout",
     "output_type": "stream",
     "text": [
      "<selenium.webdriver.remote.webelement.WebElement (session=\"7ab8bc147bf6e008be23978dc9450cb8\", element=\"E44F645D8F8B47319EB17A77C12251E0_element_1399\")>\n"
     ]
    }
   ],
   "source": [
    "print(elemento)"
   ]
  },
  {
   "cell_type": "code",
   "execution_count": null,
   "id": "c3498a35",
   "metadata": {},
   "outputs": [],
   "source": []
  }
 ],
 "metadata": {
  "kernelspec": {
   "display_name": "Python 3 (ipykernel)",
   "language": "python",
   "name": "python3"
  },
  "language_info": {
   "codemirror_mode": {
    "name": "ipython",
    "version": 3
   },
   "file_extension": ".py",
   "mimetype": "text/x-python",
   "name": "python",
   "nbconvert_exporter": "python",
   "pygments_lexer": "ipython3",
   "version": "3.9.7"
  }
 },
 "nbformat": 4,
 "nbformat_minor": 5
}
