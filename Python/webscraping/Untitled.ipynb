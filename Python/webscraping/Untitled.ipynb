{
 "cells": [
  {
   "cell_type": "code",
   "execution_count": 1,
   "id": "459ff2f1",
   "metadata": {},
   "outputs": [],
   "source": [
    "import requests\n",
    "from bs4 import BeautifulSoup"
   ]
  },
  {
   "cell_type": "code",
   "execution_count": 17,
   "id": "0acdcf39",
   "metadata": {},
   "outputs": [
    {
     "data": {
      "text/plain": [
       "<Response [200]>"
      ]
     },
     "execution_count": 17,
     "metadata": {},
     "output_type": "execute_result"
    }
   ],
   "source": [
    "url = 'https://ge.globo.com/futebol/times/flamengo/'\n",
    "response = requests.get(url)\n",
    "response"
   ]
  },
  {
   "cell_type": "code",
   "execution_count": 18,
   "id": "c1e32af2",
   "metadata": {},
   "outputs": [],
   "source": [
    "site = BeautifulSoup(response.text, 'html.parser')"
   ]
  },
  {
   "cell_type": "code",
   "execution_count": 28,
   "id": "4f473885",
   "metadata": {},
   "outputs": [
    {
     "name": "stdout",
     "output_type": "stream",
     "text": [
      "<div class=\"feed-post-body\">\n",
      " <div class=\"feed-post-header\">\n",
      " </div>\n",
      " <div class=\"feed-post-body-title gui-color-primary gui-color-hover\">\n",
      "  <div class=\"_evt\">\n",
      "   <a class=\"feed-post-link gui-color-primary gui-color-hover\" href=\"https://ge.globo.com/futebol/times/flamengo/playlist/ultimos-videos-do-flamengo.ghtml\">\n",
      "    <h2 elementtiming=\"text-ssr\">\n",
      "     📺 Assista aos últimos vídeos do Flamengo\n",
      "    </h2>\n",
      "   </a>\n",
      "  </div>\n",
      " </div>\n",
      " <div class=\"feed-post-metadata\">\n",
      "  <span class=\"feed-post-datetime\">\n",
      "   Há 2 meses\n",
      "  </span>\n",
      "  <span class=\"feed-post-metadata-section\">\n",
      "   flamengo\n",
      "  </span>\n",
      " </div>\n",
      "</div>\n"
     ]
    }
   ],
   "source": [
    "nome = site.find('div', attrs={'class':'feed-post-body'})\n",
    "\n",
    "print(nome.prettify())"
   ]
  },
  {
   "cell_type": "code",
   "execution_count": 27,
   "id": "51575c3f",
   "metadata": {},
   "outputs": [
    {
     "ename": "AttributeError",
     "evalue": "'NoneType' object has no attribute 'prettify'",
     "output_type": "error",
     "traceback": [
      "\u001b[1;31m---------------------------------------------------------------------------\u001b[0m",
      "\u001b[1;31mAttributeError\u001b[0m                            Traceback (most recent call last)",
      "\u001b[1;32m~\\AppData\\Local\\Temp/ipykernel_9704/2171303082.py\u001b[0m in \u001b[0;36m<module>\u001b[1;34m\u001b[0m\n\u001b[0;32m      9\u001b[0m \u001b[1;33m\u001b[0m\u001b[0m\n\u001b[0;32m     10\u001b[0m \u001b[1;33m\u001b[0m\u001b[0m\n\u001b[1;32m---> 11\u001b[1;33m     \u001b[0mprint\u001b[0m\u001b[1;33m(\u001b[0m\u001b[0mteste\u001b[0m\u001b[1;33m.\u001b[0m\u001b[0mprettify\u001b[0m\u001b[1;33m(\u001b[0m\u001b[1;33m)\u001b[0m\u001b[1;33m)\u001b[0m\u001b[1;33m\u001b[0m\u001b[1;33m\u001b[0m\u001b[0m\n\u001b[0m\u001b[0;32m     12\u001b[0m     \u001b[0mprint\u001b[0m\u001b[1;33m(\u001b[0m\u001b[0mtitulo\u001b[0m\u001b[1;33m.\u001b[0m\u001b[0mtext\u001b[0m\u001b[1;33m)\u001b[0m\u001b[1;33m\u001b[0m\u001b[1;33m\u001b[0m\u001b[0m\n",
      "\u001b[1;31mAttributeError\u001b[0m: 'NoneType' object has no attribute 'prettify'"
     ]
    }
   ],
   "source": [
    "nomes = site.findAll('div', attrs={'class':'feed-post-body'})\n",
    "\n",
    "\n",
    "for nome in nomes:\n",
    "    \n",
    "    teste = nome.find('div', attrs={'class':'feed-post-body'})\n",
    "    \n",
    "    titulo = nome.find('h2', attrs={'elementtiming':\"text-ssr\"})\n",
    "    \n",
    "    \n",
    "    print(teste.prettify())\n",
    "    print(titulo.text)"
   ]
  },
  {
   "cell_type": "code",
   "execution_count": 16,
   "id": "0314c5ee",
   "metadata": {},
   "outputs": [
    {
     "name": "stdout",
     "output_type": "stream",
     "text": [
      "None\n"
     ]
    }
   ],
   "source": []
  }
 ],
 "metadata": {
  "kernelspec": {
   "display_name": "Python 3 (ipykernel)",
   "language": "python",
   "name": "python3"
  },
  "language_info": {
   "codemirror_mode": {
    "name": "ipython",
    "version": 3
   },
   "file_extension": ".py",
   "mimetype": "text/x-python",
   "name": "python",
   "nbconvert_exporter": "python",
   "pygments_lexer": "ipython3",
   "version": "3.9.7"
  }
 },
 "nbformat": 4,
 "nbformat_minor": 5
}
