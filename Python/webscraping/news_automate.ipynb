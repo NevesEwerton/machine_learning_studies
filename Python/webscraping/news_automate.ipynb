{
 "cells": [
  {
   "cell_type": "code",
   "execution_count": 1,
   "id": "8bfc1087",
   "metadata": {},
   "outputs": [],
   "source": [
    "import requests\n",
    "from bs4 import BeautifulSoup"
   ]
  },
  {
   "cell_type": "code",
   "execution_count": 2,
   "id": "523504bd",
   "metadata": {},
   "outputs": [],
   "source": [
    "url = 'https://g1.globo.com//'\n",
    "response = requests.get(url)"
   ]
  },
  {
   "cell_type": "code",
   "execution_count": 4,
   "id": "d707517d",
   "metadata": {},
   "outputs": [
    {
     "name": "stdout",
     "output_type": "stream",
     "text": [
      "Manchete da notícia:  Massa fala em 'nova etapa' ao votar; Milei critica 'campanha do medo'\n",
      "\n",
      "Subtítulo da notícia:  Brics, Mercosul e mais: a importância da eleição para o Brasil\n"
     ]
    }
   ],
   "source": [
    "content = response.content\n",
    "soup = BeautifulSoup(content, 'html.parser')"
   ]
  },
  {
   "cell_type": "code",
   "execution_count": 32,
   "id": "5c3665d8",
   "metadata": {},
   "outputs": [],
   "source": [
    "# encontra a primeira div que contém a classe feed-post-body\n",
    "noticias = soup.findAll('div', attrs={'class':'feed-post-body'})"
   ]
  },
  {
   "cell_type": "code",
   "execution_count": 40,
   "id": "d7af31c5",
   "metadata": {},
   "outputs": [
    {
     "name": "stdout",
     "output_type": "stream",
     "text": [
      "Título da notícia é:  Massa fala em 'nova etapa' ao votar; Milei critica 'campanha do medo'\n",
      "Subtítulo da notícia é:  Brics, Mercosul e mais: a importância da eleição para o Brasil\n",
      "\n",
      "\n",
      "Título da notícia é:  Turista no Rio para show da Taylor é morto em assalto; 3 são detidos\n",
      "Subtítulo da notícia é:  Vítima tinha 25 anos e estudava engenharia aeroespacial\n",
      "\n",
      "\n",
      "Título da notícia é:  Show adiado: aéreas permitem remarcação gratuita de passagens\n",
      "\n",
      "\n",
      "Título da notícia é:  Fã exibe queimaduras após cair no estádio do show\n",
      "Subtítulo da notícia é:  Shows da Taylor hoje e a amanhã no Rio começarão mais tarde\n",
      "\n",
      "\n",
      "Título da notícia é:  Carros da comitiva de Taylor Swifit são apreendidos no Rio\n",
      "\n",
      "\n",
      "Título da notícia é:  Temperatura cai 14ºC em SP e no RJ e vai subir de novo; veja previsão\n",
      "Subtítulo da notícia é:  Tempo muda, e SP entra em estado de atenção para alagamentos\n",
      "\n",
      "\n",
      "Título da notícia é:  Chuva após onda de calor causa mortes na região Sul\n",
      "Subtítulo da notícia é:  VÍDEO: equipe de resgate é levada por correnteza e fica presa\n",
      "\n",
      "\n",
      "Título da notícia é:  Morre Rosalynn Carter, ex-primeira-dama dos EUA, aos 96 anos\n",
      "\n",
      "\n",
      "Título da notícia é:  Temporais, prefeito que invadiu e atirou na ex e mais VÍDEOS\n",
      "\n",
      "\n"
     ]
    }
   ],
   "source": [
    "for noticia in noticias:\n",
    "    \n",
    "    titulo = noticia.find('p', attrs={'elementtiming':'text-ssr'})\n",
    "    \n",
    "    print('Título da notícia é: ', titulo.text)\n",
    "    \n",
    "    sub_titulo = noticia.find('a', \n",
    "                           attrs={'class':'gui-color-primary gui-color-hover feed-post-body-title bstn-relatedtext'})\n",
    "    if (sub_titulo):\n",
    "        sub_titulo = sub_titulo.text\n",
    "        print('Subtítulo da notícia é: ', sub_titulo)\n",
    "        \n",
    "    print('\\n')"
   ]
  },
  {
   "cell_type": "code",
   "execution_count": null,
   "id": "94414d84",
   "metadata": {},
   "outputs": [],
   "source": []
  }
 ],
 "metadata": {
  "kernelspec": {
   "display_name": "Python 3 (ipykernel)",
   "language": "python",
   "name": "python3"
  },
  "language_info": {
   "codemirror_mode": {
    "name": "ipython",
    "version": 3
   },
   "file_extension": ".py",
   "mimetype": "text/x-python",
   "name": "python",
   "nbconvert_exporter": "python",
   "pygments_lexer": "ipython3",
   "version": "3.9.7"
  }
 },
 "nbformat": 4,
 "nbformat_minor": 5
}
