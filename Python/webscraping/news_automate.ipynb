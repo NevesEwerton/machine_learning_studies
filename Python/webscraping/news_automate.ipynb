{
 "cells": [
  {
   "cell_type": "markdown",
   "id": "d6a38a78",
   "metadata": {},
   "source": [
    "## Raspando os títulos e subtítulos das notícias do G1"
   ]
  },
  {
   "cell_type": "markdown",
   "id": "1230f4f4",
   "metadata": {},
   "source": [
    "### Sem os links das notícias"
   ]
  },
  {
   "cell_type": "code",
   "execution_count": null,
   "id": "f7691296",
   "metadata": {},
   "outputs": [],
   "source": [
    "import requests\n",
    "from bs4 import BeautifulSoup\n",
    "import pandas as pd"
   ]
  },
  {
   "cell_type": "code",
   "execution_count": 2,
   "id": "4f459691",
   "metadata": {},
   "outputs": [],
   "source": [
    "url = 'https://g1.globo.com//'\n",
    "response = requests.get(url)"
   ]
  },
  {
   "cell_type": "code",
   "execution_count": 4,
   "id": "e314bc49",
   "metadata": {},
   "outputs": [
    {
     "name": "stdout",
     "output_type": "stream",
     "text": [
      "Manchete da notícia:  Massa fala em 'nova etapa' ao votar; Milei critica 'campanha do medo'\n",
      "\n",
      "Subtítulo da notícia:  Brics, Mercosul e mais: a importância da eleição para o Brasil\n"
     ]
    }
   ],
   "source": [
    "content = response.content\n",
    "soup = BeautifulSoup(content, 'html.parser')"
   ]
  },
  {
   "cell_type": "code",
   "execution_count": 65,
   "id": "42f9ee10",
   "metadata": {},
   "outputs": [],
   "source": [
    "# encontra a primeira div que contém a classe feed-post-body\n",
    "noticias = soup.findAll('div', attrs={'class':'feed-post-body'})"
   ]
  },
  {
   "cell_type": "code",
   "execution_count": 66,
   "id": "d55cff05",
   "metadata": {},
   "outputs": [
    {
     "data": {
      "text/plain": [
       "[<div class=\"feed-post-body\"><div class=\"feed-post-header\"></div><div class=\"feed-post-body-title gui-color-primary gui-color-hover\"><div class=\"_evt\"><h2><a class=\"feed-post-link gui-color-primary gui-color-hover\" href=\"https://g1.globo.com/mundo/noticia/2023/11/19/candidatos-votam-nas-eleicoes-da-argentina.ghtml\"><p elementtiming=\"text-ssr\">Massa fala em 'nova etapa' ao votar; Milei critica 'campanha do medo'</p></a></h2></div></div><div class=\"feed-media-wrapper\"><a class=\"feed-post-figure-link gui-image-hover\" href=\"https://g1.globo.com/mundo/noticia/2023/11/19/candidatos-votam-nas-eleicoes-da-argentina.ghtml\"><div class=\"bstn-fd-item-cover\"><picture class=\"bstn-fd-cover-picture\"><img alt=\"Massa fala em 'nova etapa' ao votar; Milei critica 'campanha do medo' - Foto: (Reuters)\" class=\"bstn-fd-picture-image\" elementtiming=\"image-ssr\" loading=\"lazy\" sizes=\"(min-width: 540px) 50vw, (min-width: 900px) 30vw, 100vw\" src=\"https://s2-g1.glbimg.com/CAYKicYkphdP06LQ6yNVWmzpE0c=/0x0:1131x636/540x304/smart/filters:max_age(3600)/https://i.s3.glbimg.com/v1/AUTH_59edd422c0c84a879bd37670ae4f538a/internal_photos/bs/2023/b/l/MhM6OYS328OB9IBmFstg/massa-milei-votam.jpg\" srcset=\"https://s2-g1.glbimg.com/CAYKicYkphdP06LQ6yNVWmzpE0c=/0x0:1131x636/540x304/smart/filters:max_age(3600)/https://i.s3.glbimg.com/v1/AUTH_59edd422c0c84a879bd37670ae4f538a/internal_photos/bs/2023/b/l/MhM6OYS328OB9IBmFstg/massa-milei-votam.jpg 540w,https://s2-g1.glbimg.com/XaYx8Ado2X3FZvVx3GYdEH6IqUo=/0x0:1131x636/810x456/smart/filters:max_age(3600)/https://i.s3.glbimg.com/v1/AUTH_59edd422c0c84a879bd37670ae4f538a/internal_photos/bs/2023/b/l/MhM6OYS328OB9IBmFstg/massa-milei-votam.jpg 810w,https://s2-g1.glbimg.com/FZ-AAcYUOrztCLHeCtLlv4ta730=/0x0:1131x636/1080x608/smart/filters:max_age(3600)/https://i.s3.glbimg.com/v1/AUTH_59edd422c0c84a879bd37670ae4f538a/internal_photos/bs/2023/b/l/MhM6OYS328OB9IBmFstg/massa-milei-votam.jpg 1080w\" title=\"Massa fala em 'nova etapa' ao votar; Milei critica 'campanha do medo' - Foto: (Reuters)\"/></picture></div></a></div><div class=\"feed-post-metadata\"><span class=\"feed-post-datetime\">Há 3 horas</span><span class=\"feed-post-metadata-section\"> Mundo </span></div><div class=\"bstn-related\"><ul class=\"bstn-relateditems\"><li class=\"bstn-relateditem\"><div class=\"bstn-fd-relatedtext\"><a class=\"gui-color-primary gui-color-hover feed-post-body-title bstn-relatedtext\" href=\"https://g1.globo.com/politica/noticia/2023/11/19/comercio-bilateral-brics-mercosul-as-razoes-por-que-o-governo-brasileiro-acompanha-de-perto-a-eleicao-na-argentina.ghtml\">Brics, Mercosul e mais: a importância da eleição para o Brasil</a><div class=\"feed-post-metadata\"><span class=\"feed-post-datetime\">Há 3 horas</span></div></div></li></ul></div></div>,\n",
       " <div class=\"feed-post-body\"><div class=\"feed-post-header with-post-chapeu\"><span class=\"feed-post-header-chapeu\">Violência no Rio</span></div><div class=\"feed-post-body-title gui-color-primary gui-color-hover\"><div class=\"_evt\"><h2><a class=\"feed-post-link gui-color-primary gui-color-hover\" href=\"https://g1.globo.com/rj/rio-de-janeiro/noticia/2023/11/19/turista-e-morto-a-facadas-em-assalto-na-praia-de-copacabana.ghtml\"><p elementtiming=\"text-ssr\">Turista no Rio para show da Taylor é morto em assalto; 3 são detidos</p></a></h2></div></div><div class=\"feed-media-wrapper\"><a class=\"feed-post-figure-link gui-image-hover\" href=\"https://g1.globo.com/rj/rio-de-janeiro/noticia/2023/11/19/turista-e-morto-a-facadas-em-assalto-na-praia-de-copacabana.ghtml\"><div class=\"bstn-fd-item-cover\"><picture class=\"bstn-fd-cover-picture\"><img alt=\"Turista no Rio para show da Taylor é morto em assalto; 3 são detidos - Foto: (Redes Sociais)\" class=\"bstn-fd-picture-image\" elementtiming=\"image-ssr\" loading=\"lazy\" sizes=\"(min-width: 540px) 50vw, (min-width: 900px) 30vw, 100vw\" src=\"https://s2-g1.glbimg.com/vENL-6Ko14O0qrA1nw1-8zBw1Kc=/158x397:1132x944/540x304/smart/filters:max_age(3600)/https://i.s3.glbimg.com/v1/AUTH_59edd422c0c84a879bd37670ae4f538a/internal_photos/bs/2023/c/T/iyxvH6SOKkv6hK1YQjkQ/whatsapp-image-2023-11-19-at-10.36.39.jpeg\" srcset=\"https://s2-g1.glbimg.com/vENL-6Ko14O0qrA1nw1-8zBw1Kc=/158x397:1132x944/540x304/smart/filters:max_age(3600)/https://i.s3.glbimg.com/v1/AUTH_59edd422c0c84a879bd37670ae4f538a/internal_photos/bs/2023/c/T/iyxvH6SOKkv6hK1YQjkQ/whatsapp-image-2023-11-19-at-10.36.39.jpeg 540w,https://s2-g1.glbimg.com/Ya684x4zBFoZWaYMPACsoFb1gcY=/158x397:1132x944/810x456/smart/filters:max_age(3600)/https://i.s3.glbimg.com/v1/AUTH_59edd422c0c84a879bd37670ae4f538a/internal_photos/bs/2023/c/T/iyxvH6SOKkv6hK1YQjkQ/whatsapp-image-2023-11-19-at-10.36.39.jpeg 810w,https://s2-g1.glbimg.com/T8hUlAE-FZsrKwQ0ST6NulPLyrE=/158x397:1132x944/1080x608/smart/filters:max_age(3600)/https://i.s3.glbimg.com/v1/AUTH_59edd422c0c84a879bd37670ae4f538a/internal_photos/bs/2023/c/T/iyxvH6SOKkv6hK1YQjkQ/whatsapp-image-2023-11-19-at-10.36.39.jpeg 1080w\" title=\"Turista no Rio para show da Taylor é morto em assalto; 3 são detidos - Foto: (Redes Sociais)\"/></picture></div></a></div><div class=\"feed-post-metadata\"><span class=\"feed-post-datetime\">Há 8 minutos</span><span class=\"feed-post-metadata-section\"> Rio de Janeiro </span></div><div class=\"bstn-related\"><ul class=\"bstn-relateditems\"><li class=\"bstn-relateditem\"><div class=\"bstn-fd-relatedtext\"><a class=\"gui-color-primary gui-color-hover feed-post-body-title bstn-relatedtext\" href=\"https://g1.globo.com/ms/mato-grosso-do-sul/noticia/2023/11/19/estudante-de-engenharia-aeroespacial-e-fa-de-taylor-swift-saiba-quem-era-jovem-que-foi-morto-em-assalto-no-rj.ghtml\">Vítima tinha 25 anos e estudava engenharia aeroespacial</a><div class=\"feed-post-metadata\"><span class=\"feed-post-datetime\">Há 8 minutos</span></div></div></li></ul></div></div>,\n",
       " <div class=\"feed-post-body\"><div class=\"feed-post-header with-post-chapeu\"><span class=\"feed-post-header-chapeu\">Prejuízo menor</span></div><div class=\"feed-post-body-title gui-color-primary gui-color-hover\"><div class=\"_evt\"><h2><a class=\"feed-post-link gui-color-primary gui-color-hover\" href=\"https://g1.globo.com/rj/rio-de-janeiro/noticia/2023/11/19/taylor-swift-companhias-aereas-anunciam-remarcacao-gratuita-de-passagens-apos-adiamento-de-show.ghtml\"><p elementtiming=\"text-ssr\">Show adiado: aéreas permitem remarcação gratuita de passagens</p></a></h2></div></div><div class=\"feed-media-wrapper\"><a class=\"feed-post-figure-link gui-image-hover\" href=\"https://g1.globo.com/rj/rio-de-janeiro/noticia/2023/11/19/taylor-swift-companhias-aereas-anunciam-remarcacao-gratuita-de-passagens-apos-adiamento-de-show.ghtml\"><div class=\"bstn-fd-item-cover\"><picture class=\"bstn-fd-cover-picture\"><img alt=\"Show adiado: aéreas permitem remarcação gratuita de passagens - Foto: (Pilar Olivares/Reuters)\" class=\"bstn-fd-picture-image\" elementtiming=\"image-ssr\" loading=\"lazy\" sizes=\"(min-width: 540px) 50vw, (min-width: 900px) 30vw, 100vw\" src=\"https://s2-g1.glbimg.com/4Ub3ujXC_O0myFVUglGmmli4ew4=/0x625:6000x4000/540x304/smart/filters:max_age(3600)/https://i.s3.glbimg.com/v1/AUTH_59edd422c0c84a879bd37670ae4f538a/internal_photos/bs/2023/H/J/4xGIKtTzeLMU0YcMtCyg/2023-11-18t171839z-1138118785-rc2of4aowtek-rtrmadp-3-people-taylor-swift-brazil.jpg\" srcset=\"https://s2-g1.glbimg.com/4Ub3ujXC_O0myFVUglGmmli4ew4=/0x625:6000x4000/540x304/smart/filters:max_age(3600)/https://i.s3.glbimg.com/v1/AUTH_59edd422c0c84a879bd37670ae4f538a/internal_photos/bs/2023/H/J/4xGIKtTzeLMU0YcMtCyg/2023-11-18t171839z-1138118785-rc2of4aowtek-rtrmadp-3-people-taylor-swift-brazil.jpg 540w,https://s2-g1.glbimg.com/P5K78uGc2R8ffSmds5h-50jhL_s=/0x625:6000x4000/810x456/smart/filters:max_age(3600)/https://i.s3.glbimg.com/v1/AUTH_59edd422c0c84a879bd37670ae4f538a/internal_photos/bs/2023/H/J/4xGIKtTzeLMU0YcMtCyg/2023-11-18t171839z-1138118785-rc2of4aowtek-rtrmadp-3-people-taylor-swift-brazil.jpg 810w,https://s2-g1.glbimg.com/T2-rfSKIXn0bBj6SjuTin_VgCpc=/0x625:6000x4000/1080x608/smart/filters:max_age(3600)/https://i.s3.glbimg.com/v1/AUTH_59edd422c0c84a879bd37670ae4f538a/internal_photos/bs/2023/H/J/4xGIKtTzeLMU0YcMtCyg/2023-11-18t171839z-1138118785-rc2of4aowtek-rtrmadp-3-people-taylor-swift-brazil.jpg 1080w\" title=\"Show adiado: aéreas permitem remarcação gratuita de passagens - Foto: (Pilar Olivares/Reuters)\"/></picture></div></a></div><div class=\"feed-post-metadata\"><span class=\"feed-post-datetime\">Há 5 horas</span><span class=\"feed-post-metadata-section\"> Rio de Janeiro </span></div></div>,\n",
       " <div class=\"feed-post-body\"><div class=\"feed-post-header with-post-chapeu\"><span class=\"feed-post-header-chapeu\">Tumulto no Engenhão</span></div><div class=\"feed-post-body-title gui-color-primary gui-color-hover\"><div class=\"_evt\"><h2><a class=\"feed-post-link gui-color-primary gui-color-hover\" href=\"https://g1.globo.com/se/sergipe/noticia/2023/11/19/cai-e-levantei-rapido-mas-foi-o-suficiente-para-ter-costas-e-pernas-queimadas-diz-sergipana-que-foi-a-show-adiado-de-taylor-swift.ghtml\"><p elementtiming=\"text-ssr\">Fã exibe queimaduras após cair no estádio do show</p></a></h2></div></div><div class=\"feed-media-wrapper\"><a class=\"feed-post-figure-link gui-image-hover\" href=\"https://g1.globo.com/se/sergipe/noticia/2023/11/19/cai-e-levantei-rapido-mas-foi-o-suficiente-para-ter-costas-e-pernas-queimadas-diz-sergipana-que-foi-a-show-adiado-de-taylor-swift.ghtml\"><div class=\"bstn-fd-item-cover\"><picture class=\"bstn-fd-cover-picture\"><img alt=\"Fã exibe queimaduras após cair no estádio do show - Foto: (Arquivo pessoal)\" class=\"bstn-fd-picture-image\" elementtiming=\"image-ssr\" loading=\"lazy\" sizes=\"(min-width: 540px) 50vw, (min-width: 900px) 30vw, 100vw\" src=\"https://s2-g1.glbimg.com/-RNEpaa9vcuuFmZc-Kakh-mEV48=/0x244:3931x2455/540x304/smart/filters:max_age(3600)/https://i.s3.glbimg.com/v1/AUTH_59edd422c0c84a879bd37670ae4f538a/internal_photos/bs/2023/C/p/hbw8eySRA0HZXKLzJw1w/queimadura-3.jpg\" srcset=\"https://s2-g1.glbimg.com/-RNEpaa9vcuuFmZc-Kakh-mEV48=/0x244:3931x2455/540x304/smart/filters:max_age(3600)/https://i.s3.glbimg.com/v1/AUTH_59edd422c0c84a879bd37670ae4f538a/internal_photos/bs/2023/C/p/hbw8eySRA0HZXKLzJw1w/queimadura-3.jpg 540w,https://s2-g1.glbimg.com/V7a16rzbM59Tj8n37Y14-W9mYMg=/0x244:3931x2455/810x456/smart/filters:max_age(3600)/https://i.s3.glbimg.com/v1/AUTH_59edd422c0c84a879bd37670ae4f538a/internal_photos/bs/2023/C/p/hbw8eySRA0HZXKLzJw1w/queimadura-3.jpg 810w,https://s2-g1.glbimg.com/LNxAFIlFliJ-4GDCEiphlDWQTQg=/0x244:3931x2455/1080x608/smart/filters:max_age(3600)/https://i.s3.glbimg.com/v1/AUTH_59edd422c0c84a879bd37670ae4f538a/internal_photos/bs/2023/C/p/hbw8eySRA0HZXKLzJw1w/queimadura-3.jpg 1080w\" title=\"Fã exibe queimaduras após cair no estádio do show - Foto: (Arquivo pessoal)\"/></picture></div></a></div><div class=\"feed-post-metadata\"><span class=\"feed-post-datetime\">Há 2 horas</span><span class=\"feed-post-metadata-section\"> Sergipe </span></div><div class=\"bstn-related\"><ul class=\"bstn-relateditems\"><li class=\"bstn-relateditem\"><div class=\"bstn-fd-relatedtext\"><a class=\"gui-color-primary gui-color-hover feed-post-body-title bstn-relatedtext\" href=\"https://g1.globo.com/rj/rio-de-janeiro/noticia/2023/11/19/shows-de-taylor-swift-no-rio-comecarao-uma-hora-mais-tarde.ghtml\">Shows da Taylor hoje e a amanhã no Rio começarão mais tarde</a><div class=\"feed-post-metadata\"><span class=\"feed-post-datetime\">Há 2 horas</span></div></div></li><li class=\"bstn-relateditem\"><div class=\"bstn-fd-relatedtext\"><a class=\"gui-color-primary gui-color-hover feed-post-body-title bstn-relatedtext\" href=\"https://g1.globo.com/rj/rio-de-janeiro/noticia/2023/11/18/fa-morre-durante-show-de-taylor-swift-em-dia-de-calor-de-391c-no-rio-o-que-se-sabe-ate-agora.ghtml\">Morte durante show: o que falta saber sobre o caso</a><div class=\"feed-post-metadata\"><span class=\"feed-post-datetime\">Há 2 horas</span></div></div></li></ul></div></div>,\n",
       " <div class=\"feed-post-body\"><div class=\"feed-post-header with-post-chapeu\"><span class=\"feed-post-header-chapeu\">Placas cobertas</span></div><div class=\"feed-post-body-title gui-color-primary gui-color-hover\"><div class=\"_evt\"><h2><a class=\"feed-post-link gui-color-primary gui-color-hover\" href=\"https://g1.globo.com/rj/rio-de-janeiro/noticia/2023/11/19/carros-usados-pela-comitiva-de-taylor-swift-sao-apreendidos.ghtml\"><p elementtiming=\"text-ssr\">Carros da comitiva de Taylor Swifit são apreendidos no Rio</p></a></h2></div></div><div class=\"feed-media-wrapper\"><a class=\"feed-post-figure-link gui-image-hover\" href=\"https://g1.globo.com/rj/rio-de-janeiro/noticia/2023/11/19/carros-usados-pela-comitiva-de-taylor-swift-sao-apreendidos.ghtml\"><div class=\"bstn-fd-item-cover\"><picture class=\"bstn-fd-cover-picture\"><img alt=\"Carros da comitiva de Taylor Swifit são apreendidos no Rio - Foto: (Thaís Espírito Santo/ g1)\" class=\"bstn-fd-picture-image\" elementtiming=\"image-ssr\" loading=\"lazy\" sizes=\"(min-width: 540px) 50vw, (min-width: 900px) 30vw, 100vw\" src=\"https://s2-g1.glbimg.com/V4hCM9B8NCgEmpl5xEU-2TOFREE=/79x0:1268x669/540x304/smart/filters:max_age(3600)/https://i.s3.glbimg.com/v1/AUTH_59edd422c0c84a879bd37670ae4f538a/internal_photos/bs/2023/Z/3/3Gsa3MSdGTE1z1BLhGoQ/g1-carros-taylor3.jpg\" srcset=\"https://s2-g1.glbimg.com/V4hCM9B8NCgEmpl5xEU-2TOFREE=/79x0:1268x669/540x304/smart/filters:max_age(3600)/https://i.s3.glbimg.com/v1/AUTH_59edd422c0c84a879bd37670ae4f538a/internal_photos/bs/2023/Z/3/3Gsa3MSdGTE1z1BLhGoQ/g1-carros-taylor3.jpg 540w,https://s2-g1.glbimg.com/-AqhKh-5p0ks1dmcCu6QAzyMsIM=/79x0:1268x669/810x456/smart/filters:max_age(3600)/https://i.s3.glbimg.com/v1/AUTH_59edd422c0c84a879bd37670ae4f538a/internal_photos/bs/2023/Z/3/3Gsa3MSdGTE1z1BLhGoQ/g1-carros-taylor3.jpg 810w,https://s2-g1.glbimg.com/H4WMc_Rflw3xUUDSXsLeeDYleqM=/79x0:1268x669/1080x608/smart/filters:max_age(3600)/https://i.s3.glbimg.com/v1/AUTH_59edd422c0c84a879bd37670ae4f538a/internal_photos/bs/2023/Z/3/3Gsa3MSdGTE1z1BLhGoQ/g1-carros-taylor3.jpg 1080w\" title=\"Carros da comitiva de Taylor Swifit são apreendidos no Rio - Foto: (Thaís Espírito Santo/ g1)\"/></picture></div></a></div><div class=\"feed-post-metadata\"><span class=\"feed-post-datetime\">Há 3 horas</span><span class=\"feed-post-metadata-section\"> Rio de Janeiro </span></div></div>,\n",
       " <div class=\"feed-post-body\"><div class=\"feed-post-header with-post-chapeu\"><span class=\"feed-post-header-chapeu\">Virada no tempo</span></div><div class=\"feed-post-body-title gui-color-primary gui-color-hover\"><div class=\"_evt\"><h2><a class=\"feed-post-link gui-color-primary gui-color-hover\" href=\"https://g1.globo.com/meio-ambiente/noticia/2023/11/19/apos-onda-de-calor-temperaturas-despencam-nas-capitais-do-sudeste-e-centro-oeste-chuvas-continuarao-nos-proximos-dias-em-boa-parte-do-pais.ghtml\"><p elementtiming=\"text-ssr\">Temperatura cai 14ºC em SP e no RJ e vai subir de novo; veja previsão</p></a></h2></div></div><div class=\"feed-media-wrapper\"><a class=\"feed-post-figure-link gui-image-hover\" href=\"https://g1.globo.com/meio-ambiente/noticia/2023/11/19/apos-onda-de-calor-temperaturas-despencam-nas-capitais-do-sudeste-e-centro-oeste-chuvas-continuarao-nos-proximos-dias-em-boa-parte-do-pais.ghtml\"><div class=\"bstn-fd-item-cover\"><picture class=\"bstn-fd-cover-picture\"><img alt=\"Temperatura cai 14ºC em SP e no RJ e vai subir de novo; veja previsão - Foto: (RENATO S. CERQUEIRA/FUTURA PRESS/FUTURA PRESS/ESTADÃO CONTEÚDO)\" class=\"bstn-fd-picture-image\" elementtiming=\"image-ssr\" loading=\"lazy\" sizes=\"(min-width: 540px) 50vw, (min-width: 900px) 30vw, 100vw\" src=\"https://s2-g1.glbimg.com/p2P34xk51C20ga6f6WpHUQK6QNc=/0x0:3000x1688/540x304/smart/filters:max_age(3600)/https://i.s3.glbimg.com/v1/AUTH_59edd422c0c84a879bd37670ae4f538a/internal_photos/bs/2023/U/6/xpjcLySXOa9kmBHvK4Hw/fup20231119223-1-.jpg\" srcset=\"https://s2-g1.glbimg.com/p2P34xk51C20ga6f6WpHUQK6QNc=/0x0:3000x1688/540x304/smart/filters:max_age(3600)/https://i.s3.glbimg.com/v1/AUTH_59edd422c0c84a879bd37670ae4f538a/internal_photos/bs/2023/U/6/xpjcLySXOa9kmBHvK4Hw/fup20231119223-1-.jpg 540w,https://s2-g1.glbimg.com/mVUo1xHyOHRt9a8h72GXOQwaDhU=/0x0:3000x1688/810x456/smart/filters:max_age(3600)/https://i.s3.glbimg.com/v1/AUTH_59edd422c0c84a879bd37670ae4f538a/internal_photos/bs/2023/U/6/xpjcLySXOa9kmBHvK4Hw/fup20231119223-1-.jpg 810w,https://s2-g1.glbimg.com/-DB1Ds5PqUWjg_pq8Ugd8dwbu0I=/0x0:3000x1688/1080x608/smart/filters:max_age(3600)/https://i.s3.glbimg.com/v1/AUTH_59edd422c0c84a879bd37670ae4f538a/internal_photos/bs/2023/U/6/xpjcLySXOa9kmBHvK4Hw/fup20231119223-1-.jpg 1080w\" title=\"Temperatura cai 14ºC em SP e no RJ e vai subir de novo; veja previsão - Foto: (RENATO S. CERQUEIRA/FUTURA PRESS/FUTURA PRESS/ESTADÃO CONTEÚDO)\"/></picture></div></a></div><div class=\"feed-post-metadata\"><span class=\"feed-post-datetime\">Há 1 hora</span><span class=\"feed-post-metadata-section\"> Meio Ambiente </span></div><div class=\"bstn-related\"><ul class=\"bstn-relateditems\"><li class=\"bstn-relateditem\"><div class=\"bstn-fd-relatedtext\"><a class=\"gui-color-primary gui-color-hover feed-post-body-title bstn-relatedtext\" href=\"https://g1.globo.com/sp/sao-paulo/noticia/2023/11/19/parte-da-regiao-metropolitana-de-sp-registra-falta-de-energia-apos-chuva-forte.ghtml\">Tempo muda, e SP entra em estado de atenção para alagamentos</a><div class=\"feed-post-metadata\"><span class=\"feed-post-datetime\">Há 1 hora</span></div></div></li></ul></div></div>,\n",
       " <div class=\"feed-post-body\"><div class=\"feed-post-header with-post-chapeu\"><span class=\"feed-post-header-chapeu\">Temporais</span></div><div class=\"feed-post-body-title gui-color-primary gui-color-hover\"><div class=\"_evt\"><h2><a class=\"feed-post-link gui-color-primary gui-color-hover\" href=\"https://g1.globo.com/rs/rio-grande-do-sul/noticia/2023/11/19/chuva-no-rs-corpo-de-terceira-vitima-e-encontrado-diz-governo.ghtml\"><p elementtiming=\"text-ssr\">Chuva após onda de calor causa mortes na região Sul</p></a></h2></div></div><div class=\"feed-media-wrapper\"><a class=\"feed-post-figure-link gui-image-hover\" href=\"https://g1.globo.com/rs/rio-grande-do-sul/noticia/2023/11/19/chuva-no-rs-corpo-de-terceira-vitima-e-encontrado-diz-governo.ghtml\"><div class=\"bstn-fd-item-cover\"><picture class=\"bstn-fd-cover-picture\"><img alt=\"Chuva após onda de calor causa mortes na região Sul - Foto: (LEANDRO OSÓRIO/ATO PRESS/ESTADÃO CONTEÚDO)\" class=\"bstn-fd-picture-image\" elementtiming=\"image-ssr\" loading=\"lazy\" sizes=\"(min-width: 540px) 50vw, (min-width: 900px) 30vw, 100vw\" src=\"https://s2-g1.glbimg.com/70dr9llF7D5S9e2ONcSSGUl5aiI=/0x312:3000x2000/540x304/smart/filters:max_age(3600)/https://i.s3.glbimg.com/v1/AUTH_59edd422c0c84a879bd37670ae4f538a/internal_photos/bs/2023/C/N/Zeq8LMRNm7aJYhBGKjKA/ato20231119003.jpg\" srcset=\"https://s2-g1.glbimg.com/70dr9llF7D5S9e2ONcSSGUl5aiI=/0x312:3000x2000/540x304/smart/filters:max_age(3600)/https://i.s3.glbimg.com/v1/AUTH_59edd422c0c84a879bd37670ae4f538a/internal_photos/bs/2023/C/N/Zeq8LMRNm7aJYhBGKjKA/ato20231119003.jpg 540w,https://s2-g1.glbimg.com/Cgl-CyGCk6whoWMAy7uO3CW3lro=/0x312:3000x2000/810x456/smart/filters:max_age(3600)/https://i.s3.glbimg.com/v1/AUTH_59edd422c0c84a879bd37670ae4f538a/internal_photos/bs/2023/C/N/Zeq8LMRNm7aJYhBGKjKA/ato20231119003.jpg 810w,https://s2-g1.glbimg.com/3AWOrTdCOi_pjDaZcGPuvOfOfmI=/0x312:3000x2000/1080x608/smart/filters:max_age(3600)/https://i.s3.glbimg.com/v1/AUTH_59edd422c0c84a879bd37670ae4f538a/internal_photos/bs/2023/C/N/Zeq8LMRNm7aJYhBGKjKA/ato20231119003.jpg 1080w\" title=\"Chuva após onda de calor causa mortes na região Sul - Foto: (LEANDRO OSÓRIO/ATO PRESS/ESTADÃO CONTEÚDO)\"/></picture></div></a></div><div class=\"feed-post-metadata\"><span class=\"feed-post-datetime\">Há 4 horas</span><span class=\"feed-post-metadata-section\"> Rio Grande do Sul </span></div><div class=\"bstn-related\"><ul class=\"bstn-relateditems\"><li class=\"bstn-relateditem\"><div class=\"bstn-fd-relatedtext\"><a class=\"gui-color-primary gui-color-hover feed-post-body-title bstn-relatedtext\" href=\"https://g1.globo.com/rs/rio-grande-do-sul/noticia/2023/11/19/video-equipe-de-resgate-e-levada-pela-correnteza-e-fica-presa-a-poste-em-roca-sales.ghtml\">VÍDEO: equipe de resgate é levada por correnteza e fica presa</a><div class=\"feed-post-metadata\"><span class=\"feed-post-datetime\">Há 4 horas</span></div></div></li><li class=\"bstn-relateditem\"><div class=\"bstn-fd-relatedtext\"><a class=\"gui-color-primary gui-color-hover feed-post-body-title bstn-relatedtext\" href=\"https://g1.globo.com/sc/santa-catarina/noticia/2023/11/19/enxurrada-arrasta-casa-idoso-desaparece-sc.ghtml\">SC: idoso desaparece após casa ser arrastada por enxurrada</a><div class=\"feed-post-metadata\"><span class=\"feed-post-datetime\">Há 4 horas</span></div></div></li></ul></div></div>,\n",
       " <div class=\"feed-post-body\"><div class=\"feed-post-header with-post-chapeu\"><span class=\"feed-post-header-chapeu\">Estados Unidos</span></div><div class=\"feed-post-body-title gui-color-primary gui-color-hover\"><div class=\"_evt\"><h2><a class=\"feed-post-link gui-color-primary gui-color-hover\" href=\"https://g1.globo.com/mundo/noticia/2023/11/19/morre-rosalynn-carter-ex-primeira-dama-dos-eua-aos-99-anos.ghtml\"><p elementtiming=\"text-ssr\">Morre Rosalynn Carter, ex-primeira-dama dos EUA, aos 96 anos</p></a></h2></div></div><div class=\"feed-media-wrapper\"><a class=\"feed-post-figure-link gui-image-hover\" href=\"https://g1.globo.com/mundo/noticia/2023/11/19/morre-rosalynn-carter-ex-primeira-dama-dos-eua-aos-99-anos.ghtml\"><div class=\"bstn-fd-item-cover\"><picture class=\"bstn-fd-cover-picture\"><img alt=\"Morre Rosalynn Carter, ex-primeira-dama dos EUA, aos 96 anos - Foto: (The Carter Center)\" class=\"bstn-fd-picture-image\" elementtiming=\"image-ssr\" loading=\"lazy\" sizes=\"(min-width: 540px) 50vw, (min-width: 900px) 30vw, 100vw\" src=\"https://s2-g1.glbimg.com/-5p5mHpwA4BGSTJ5TH2Ih_bApVk=/0x0:952x536/540x304/smart/filters:max_age(3600)/https://i.s3.glbimg.com/v1/AUTH_59edd422c0c84a879bd37670ae4f538a/internal_photos/bs/2023/E/B/enj6D0TZALJ4J4axlbHA/f-uqtylwcaahdec.jpeg\" srcset=\"https://s2-g1.glbimg.com/-5p5mHpwA4BGSTJ5TH2Ih_bApVk=/0x0:952x536/540x304/smart/filters:max_age(3600)/https://i.s3.glbimg.com/v1/AUTH_59edd422c0c84a879bd37670ae4f538a/internal_photos/bs/2023/E/B/enj6D0TZALJ4J4axlbHA/f-uqtylwcaahdec.jpeg 540w,https://s2-g1.glbimg.com/UXdZklX54paMHpslWQFU-CMpc6s=/0x0:952x536/810x456/smart/filters:max_age(3600)/https://i.s3.glbimg.com/v1/AUTH_59edd422c0c84a879bd37670ae4f538a/internal_photos/bs/2023/E/B/enj6D0TZALJ4J4axlbHA/f-uqtylwcaahdec.jpeg 810w,https://s2-g1.glbimg.com/c-kI6dsXTeG-n6g2369hoJrxEbY=/0x0:952x536/1080x608/smart/filters:max_age(3600)/https://i.s3.glbimg.com/v1/AUTH_59edd422c0c84a879bd37670ae4f538a/internal_photos/bs/2023/E/B/enj6D0TZALJ4J4axlbHA/f-uqtylwcaahdec.jpeg 1080w\" title=\"Morre Rosalynn Carter, ex-primeira-dama dos EUA, aos 96 anos - Foto: (The Carter Center)\"/></picture></div></a></div><div class=\"feed-post-metadata\"><span class=\"feed-post-datetime\">Há 17 minutos</span><span class=\"feed-post-metadata-section\"> Mundo </span></div></div>,\n",
       " <div class=\"feed-post-body\"><div class=\"feed-post-header\"></div><div class=\"feed-post-body-title gui-color-primary gui-color-hover\"><div class=\"_evt\"><h2><a class=\"feed-post-link gui-color-primary gui-color-hover\" href=\"https://g1.globo.com/playlist/videos-para-assistir-agora.ghtml\"><p elementtiming=\"text-ssr\">Temporais, prefeito que invadiu e atirou na ex e mais VÍDEOS</p></a></h2></div></div><div class=\"feed-media-wrapper\"><a class=\"feed-post-figure-link gui-image-hover\" href=\"https://g1.globo.com/playlist/videos-para-assistir-agora.ghtml\"><div class=\"bstn-fd-item-cover\"><picture class=\"bstn-fd-cover-picture\"><img alt=\"Temporais, prefeito que invadiu e atirou na ex e mais VÍDEOS\" class=\"bstn-fd-picture-image\" elementtiming=\"image-ssr\" loading=\"lazy\" sizes=\"(min-width: 540px) 50vw, (min-width: 900px) 30vw, 100vw\" src=\"https://s2-g1.glbimg.com/MNvB84EKfXGCghbLv2NPI8pDgqM=/0x0:1920x1080/540x304/smart/filters:max_age(3600)/http://s2-g1.glbimg.com/cwHhQFYOwKIlFlN_LhrKnSVnhtQ=/filters:max_age(3600)/s01.video.glbimg.com/deo/vi/80/66/12126680\" srcset=\"https://s2-g1.glbimg.com/MNvB84EKfXGCghbLv2NPI8pDgqM=/0x0:1920x1080/540x304/smart/filters:max_age(3600)/http://s2-g1.glbimg.com/cwHhQFYOwKIlFlN_LhrKnSVnhtQ=/filters:max_age(3600)/s01.video.glbimg.com/deo/vi/80/66/12126680 540w,https://s2-g1.glbimg.com/frALZExnhEVlDcKlgX6sfbKjcRo=/0x0:1920x1080/810x456/smart/filters:max_age(3600)/http://s2-g1.glbimg.com/cwHhQFYOwKIlFlN_LhrKnSVnhtQ=/filters:max_age(3600)/s01.video.glbimg.com/deo/vi/80/66/12126680 810w,https://s2-g1.glbimg.com/9jDLdf6dQOyPEU_QNVGm5uuc57s=/0x0:1920x1080/1080x608/smart/filters:max_age(3600)/http://s2-g1.glbimg.com/cwHhQFYOwKIlFlN_LhrKnSVnhtQ=/filters:max_age(3600)/s01.video.glbimg.com/deo/vi/80/66/12126680 1080w\" title=\"Temporais, prefeito que invadiu e atirou na ex e mais VÍDEOS\"/></picture></div></a></div><div class=\"feed-post-metadata\"><span class=\"feed-post-datetime\">Há 5 horas</span><span class=\"feed-post-metadata-section\"> G1 </span></div></div>]"
      ]
     },
     "execution_count": 66,
     "metadata": {},
     "output_type": "execute_result"
    }
   ],
   "source": [
    "noticias"
   ]
  },
  {
   "cell_type": "code",
   "execution_count": 58,
   "id": "9d9d2853",
   "metadata": {},
   "outputs": [],
   "source": [
    "lista = []\n",
    "\n",
    "for noticia in noticias:\n",
    "    \n",
    "    titulo = noticia.find('p', attrs={'elementtiming':'text-ssr'}).text\n",
    "    \n",
    "    #print('Título da notícia é: ', titulo)\n",
    "    #print('Link da notícia',href)\n",
    "    \n",
    "    sub_titulo = noticia.find('a', \n",
    "                           attrs={'class':'gui-color-primary gui-color-hover feed-post-body-title bstn-relatedtext'})\n",
    "    if (sub_titulo):\n",
    "        sub_titulo = sub_titulo.text\n",
    "        #print('Subtítulo da notícia é: ', sub_titulo)\n",
    "        lista.append([titulo, sub_titulo])\n",
    "    else:\n",
    "        lista.append([titulo, ''])\n",
    "        \n",
    "news = pd.DataFrame(lista, columns=['Título','Subtítulo'])\n",
    "\n",
    "news.to_csv(\"noticias_globo.csv\", index=False)\n",
    "\n",
    "#print(news)\n",
    "        \n",
    "    #print('\\n')"
   ]
  },
  {
   "cell_type": "markdown",
   "id": "c45878e6",
   "metadata": {},
   "source": [
    "### Com os links das notícias"
   ]
  },
  {
   "cell_type": "code",
   "execution_count": 73,
   "id": "12bd379f",
   "metadata": {},
   "outputs": [],
   "source": [
    "lista = []\n",
    "\n",
    "for noticia in noticias:\n",
    "    \n",
    "    # Títulos\n",
    "    titulo = soup.find('a', attrs={'class':'feed-post-link gui-color-primary gui-color-hover'})\n",
    "    \n",
    "    # Subtpitulos\n",
    "    sub_titulo = noticia.find('a',\n",
    "                              attrs={'class':'gui-color-primary gui-color-hover feed-post-body-title bstn-relatedtext'})\n",
    "    \n",
    "    # Estrutura condicional para checar se a notícia tem subtítulo\n",
    "    if sub_titulo:\n",
    "        sub_titulo = sub_titulo.text\n",
    "        lista.append([titulo.text, sub_titulo, titulo['href']])\n",
    "        \n",
    "news = pd.DataFrame(lista, columns=['Titulo','Subtitulo','Link'])\n",
    "\n",
    "news.to_excel('noticas_G1.xlsx', index=False)"
   ]
  }
 ],
 "metadata": {
  "kernelspec": {
   "display_name": "Python 3 (ipykernel)",
   "language": "python",
   "name": "python3"
  },
  "language_info": {
   "codemirror_mode": {
    "name": "ipython",
    "version": 3
   },
   "file_extension": ".py",
   "mimetype": "text/x-python",
   "name": "python",
   "nbconvert_exporter": "python",
   "pygments_lexer": "ipython3",
   "version": "3.9.7"
  }
 },
 "nbformat": 4,
 "nbformat_minor": 5
}
